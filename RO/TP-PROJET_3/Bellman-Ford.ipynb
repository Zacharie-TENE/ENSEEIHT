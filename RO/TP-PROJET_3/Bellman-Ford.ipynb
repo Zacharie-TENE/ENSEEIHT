{
 "cells": [
  {
   "cell_type": "markdown",
   "id": "8d3d09c3",
   "metadata": {},
   "source": [
    "# <i>Algorithme de Bellman-Ford</i> "
   ]
  },
  {
   "cell_type": "markdown",
   "id": "07eecec7",
   "metadata": {},
   "source": [
    "## Principe de l'algorithme de Bellman-Ford\n",
    "\n",
    "L'algorithme de Bellman-Ford permet de trouver les distances les plus courtes entre un sommet source et tous les autres sommets d'un graphe pondéré, même en présence de poids négatifs. Toutefois, il ne fonctionne pas pour des graphes contenant des cycles de poids négatif atteignables depuis la source.\n",
    "Étapes principales :\n",
    "\n",
    "On initialise les distances de tous les sommets à l'infini (Inf), sauf la source qui est initialisée à 0.\n",
    "Puis, on relâche toutes les arêtes du graphe $n−1$ fois (où n est le nombre de sommets). Cela garantit que les distances les plus courtes seront calculées pour les chemins de longueur maximale $n−1$ (sans cycles).\n",
    "Enfin, on vérifie l'existence de cycles de poids négatif. Si une distance peut encore être réduite après $n−1$ itérations, cela signifie qu'un cycle de poids négatif est présent.\n",
    "\n",
    "#### Elements clé de l'implementation\n",
    "\n",
    "Dictionnaires dist et pred :\n",
    "- dist: Stocke les distances les plus courtes depuis la source vers chaque sommet.\n",
    "- pred: Stocke les prédécesseurs de chaque sommet, permettant de reconstruire les chemins les plus courts.\n",
    "\n",
    "Relâchement des arêtes :\n",
    "dans chaque itération, pour chaque sommet et ses voisins, on vérifie si une mise à jour de la distance minimale est possible.\n",
    "\n",
    "Détection des cycles négatifs :\n",
    "après les $n−1$ itérations, une vérification supplémentaire est effectuée pour voir si une mise à jour est encore possible.\n",
    "\n",
    "\n"
   ]
  },
  {
   "cell_type": "code",
   "execution_count": 17,
   "id": "afb7d80d",
   "metadata": {},
   "outputs": [
    {
     "data": {
      "text/plain": [
       "bellman_ford (generic function with 1 method)"
      ]
     },
     "execution_count": 17,
     "metadata": {},
     "output_type": "execute_result"
    }
   ],
   "source": [
    "function bellman_ford(graph::Dict{Char, Vector{Tuple{Char, Int}}}, source::Char)\n",
    "    #On recupere du nombre de sommet\n",
    "    n = length(keys(graph))\n",
    "      \n",
    "    #On initialise les distances à l'infini\n",
    "    dist = Dict(v => Inf for v in keys(graph))\n",
    "        \n",
    "    #On initialise les prédecesseur à 'nothing'\n",
    "    pred = Dict{Char, Union{Char, Nothing}}(v => nothing for v in keys(graph))\n",
    "    \n",
    "    #La distance de la source à elle même vaut 0\n",
    "    dist[source] = 0\n",
    "    \n",
    "    #Relacher toutes les arêtes\n",
    "    for k in 1:n-1\n",
    "        for u in keys(graph) #Pour chaque sommet du graphe\n",
    "            for (v, weight) in graph[u]\n",
    "                \n",
    "                #Si une distance plus courte est trouvée, on la met à jour\n",
    "                if dist[u] + weight < dist[v] \n",
    "                    dist[v] = dist[u] + weight\n",
    "                    pred[v] = u\n",
    "                end\n",
    "            end\n",
    "        end\n",
    "    end\n",
    "    \n",
    "    #Verification de l'existence des cycles de poids negatifs\n",
    "    for u in keys(graph)\n",
    "        for (v, weight) in graph[u]\n",
    "            if dist[u] + weight < dist[v]\n",
    "                error(\"Le graphe contient un cycle négatif\")\n",
    "            end\n",
    "        end\n",
    "    end\n",
    "    \n",
    "    return dist, pred\n",
    "end"
   ]
  },
  {
   "cell_type": "code",
   "execution_count": 18,
   "id": "35d53b20",
   "metadata": {},
   "outputs": [
    {
     "data": {
      "text/plain": [
       "get_path (generic function with 1 method)"
      ]
     },
     "execution_count": 18,
     "metadata": {},
     "output_type": "execute_result"
    }
   ],
   "source": [
    "function get_path(pred::Dict{Char, Union{Char, Nothing}}, target::Char)\n",
    "    path = Char[]\n",
    "    current = target\n",
    "    \n",
    "    while !isnothing(current)\n",
    "        pushfirst!(path, current)\n",
    "        current = pred[current]\n",
    "    end\n",
    "    \n",
    "    \n",
    "    return path\n",
    "end"
   ]
  },
  {
   "cell_type": "code",
   "execution_count": 19,
   "id": "8b736810",
   "metadata": {},
   "outputs": [
    {
     "data": {
      "text/plain": [
       "test_1 (generic function with 1 method)"
      ]
     },
     "execution_count": 19,
     "metadata": {},
     "output_type": "execute_result"
    }
   ],
   "source": [
    "function test_1()\n",
    "    graph = Dict{Char, Vector{Tuple{Char, Int}}}(\n",
    "        'A' => [('B', 4), ('E', 5)],\n",
    "        'B' => [('C', 2)],\n",
    "        'C' => [('D', 3)],\n",
    "        'D' => [('F', 3)],\n",
    "        'E' => [('B', -4), ('D', 3)],\n",
    "        'F' => Vector{Tuple{Char, Int}}()\n",
    "    )\n",
    "    \n",
    "    dist, pred = bellman_ford(graph, 'A')\n",
    "    \n",
    "    println(\"Distances depuis A:\")\n",
    "    for (vertex, distance) in sort(collect(dist))\n",
    "        println(\"$vertex: $distance\")\n",
    "    end\n",
    "    \n",
    "    path = get_path(pred, 'F')\n",
    "    println(\"\\nChemin le plus court de A vers F:\")\n",
    "    println(join(path, \" -> \"), \" (coût: $(dist['F']))\")\n",
    "end"
   ]
  },
  {
   "cell_type": "code",
   "execution_count": 20,
   "id": "4eafac3c",
   "metadata": {},
   "outputs": [
    {
     "name": "stdout",
     "output_type": "stream",
     "text": [
      "Distances depuis A:\n",
      "A: 0.0\n",
      "B: 1.0\n",
      "C: 3.0\n",
      "D: 6.0\n",
      "E: 5.0\n",
      "F: 9.0\n",
      "\n",
      "Chemin le plus court de A vers F:\n",
      "A -> E -> B -> C -> D -> F (coût: 9.0)\n"
     ]
    }
   ],
   "source": [
    "test_1()"
   ]
  },
  {
   "cell_type": "code",
   "execution_count": 21,
   "id": "059ce41a",
   "metadata": {},
   "outputs": [
    {
     "data": {
      "text/plain": [
       "test_2 (generic function with 1 method)"
      ]
     },
     "execution_count": 21,
     "metadata": {},
     "output_type": "execute_result"
    }
   ],
   "source": [
    "function test_2()\n",
    "    graph2 = Dict{Char, Vector{Tuple{Char, Int}}}(\n",
    "        'S' => [('A', 2), ('B', 4)],\n",
    "        'A' => [('B', 1), ('C', 3)],\n",
    "        'B' => [('C', 2), ('D', 5)],\n",
    "        'C' => [('D', 1)],\n",
    "        'D' => Vector{Tuple{Char, Int}}()\n",
    "    )\n",
    "    \n",
    "    println(\"\\nTest avec un autre exemple:\")\n",
    "    dist, pred = bellman_ford(graph2, 'S')\n",
    "    \n",
    "    println(\"Distances depuis S:\")\n",
    "    \n",
    "    for (vertex, distance) in sort(collect(dist))\n",
    "        println(\"$vertex: $distance\")\n",
    "    end\n",
    "    \n",
    "end"
   ]
  },
  {
   "cell_type": "code",
   "execution_count": 22,
   "id": "be0829f9",
   "metadata": {},
   "outputs": [
    {
     "name": "stdout",
     "output_type": "stream",
     "text": [
      "\n",
      "Test avec un autre exemple:\n",
      "Distances depuis S:\n",
      "A: 2.0\n",
      "B: 3.0\n",
      "C: 5.0\n",
      "D: 6.0\n",
      "S: 0.0\n"
     ]
    }
   ],
   "source": [
    "test_2()"
   ]
  },
  {
   "cell_type": "code",
   "execution_count": 23,
   "id": "275f684d",
   "metadata": {},
   "outputs": [
    {
     "data": {
      "text/plain": [
       "test_exemple (generic function with 1 method)"
      ]
     },
     "execution_count": 23,
     "metadata": {},
     "output_type": "execute_result"
    }
   ],
   "source": [
    "function test_exemple()\n",
    "    \n",
    "    graph = Dict{Char, Vector{Tuple{Char, Int}}}(\n",
    "        'A' => [('B', 3), ('E', 5)],\n",
    "        'B' => [('C', 4)],\n",
    "        'C' => [('D', 2)],\n",
    "        'D' => [('F', 3)],\n",
    "        'E' => [('B', -1), ('D', 9)],\n",
    "        'F' => Vector{Tuple{Char, Int}}()\n",
    "    )\n",
    "    \n",
    "    print(\"Test du tp:\")\n",
    "    dist, pred = bellman_ford(graph, 'A')\n",
    "    println(\"distance depuis A:\")\n",
    "    \n",
    "    for (vertex, distance) in sort(collect(dist))\n",
    "        println(\"$vertex: $distance\")\n",
    "    end\n",
    "    \n",
    "    path = get_path(pred, 'F')\n",
    "    println(\"\\nChemin le plus court de A vers F:\")\n",
    "    println(join(path, \" -> \"), \" (coût: $(dist['F']))\")\n",
    "    \n",
    "end"
   ]
  },
  {
   "cell_type": "code",
   "execution_count": 24,
   "id": "8bbb7ee6",
   "metadata": {},
   "outputs": [
    {
     "name": "stdout",
     "output_type": "stream",
     "text": [
      "Test du tp:distance depuis A:\n",
      "A: 0.0\n",
      "B: 3.0\n",
      "C: 7.0\n",
      "D: 9.0\n",
      "E: 5.0\n",
      "F: 12.0\n",
      "\n",
      "Chemin le plus court de A vers F:\n",
      "A -> B -> C -> D -> F (coût: 12.0)\n"
     ]
    }
   ],
   "source": [
    "test_exemple()  #Exemple demandé dans le sujet"
   ]
  }
 ],
 "metadata": {
  "kernelspec": {
   "display_name": "Julia 1.8.2 - N7",
   "language": "julia",
   "name": "julia-1.8-n7"
  },
  "language_info": {
   "file_extension": ".jl",
   "mimetype": "application/julia",
   "name": "julia",
   "version": "1.8.2"
  }
 },
 "nbformat": 4,
 "nbformat_minor": 5
}
